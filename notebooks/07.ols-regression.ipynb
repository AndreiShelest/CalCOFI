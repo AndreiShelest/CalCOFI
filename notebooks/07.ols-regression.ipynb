{
 "cells": [
  {
   "cell_type": "code",
   "execution_count": null,
   "metadata": {},
   "outputs": [],
   "source": [
    "import pandas as pd\n",
    "import numpy as np\n",
    "\n",
    "from sklearn.linear_model import LinearRegression\n",
    "from sklearn.model_selection import cross_validate\n",
    "from sklearn.metrics import mean_squared_error, r2_score\n",
    "import helpers\n",
    "import pickle\n",
    "\n",
    "np.random.seed(helpers.random_seed)"
   ]
  },
  {
   "cell_type": "markdown",
   "metadata": {},
   "source": [
    "## Ordinary Least Square Regression"
   ]
  },
  {
   "cell_type": "code",
   "execution_count": null,
   "metadata": {},
   "outputs": [],
   "source": [
    "# reading in data and dividing into x and y\n",
    "train = pd.read_csv('../data/post_fs_train.csv', index_col=0)\n",
    "test = pd.read_csv('../data/post_fs_test.csv', index_col=0)"
   ]
  },
  {
   "cell_type": "code",
   "execution_count": null,
   "metadata": {},
   "outputs": [],
   "source": [
    "target_feature = helpers.target_feature\n",
    "\n",
    "y_train = train[target_feature]\n",
    "x_train = train.drop(target_feature, axis=1)\n",
    "\n",
    "y_test = test[target_feature]\n",
    "x_test = test.drop(target_feature, axis=1)"
   ]
  },
  {
   "cell_type": "code",
   "execution_count": null,
   "metadata": {},
   "outputs": [],
   "source": [
    "def cv_validation(model, X, y):\n",
    "    scores = cross_validate(model, X, y, cv=5, scoring=['neg_root_mean_squared_error', 'r2'])\n",
    "\n",
    "    mse_error = np.abs(np.mean(scores['test_neg_root_mean_squared_error']))\n",
    "    r2_score = np.mean(scores['test_r2'])\n",
    "\n",
    "    print(mse_error, r2_score)"
   ]
  },
  {
   "cell_type": "markdown",
   "metadata": {},
   "source": [
    "### Cross-validation"
   ]
  },
  {
   "cell_type": "code",
   "execution_count": null,
   "metadata": {},
   "outputs": [],
   "source": [
    "model = LinearRegression()\n",
    "\n",
    "cv_validation(model, x_train, y_train)"
   ]
  },
  {
   "cell_type": "markdown",
   "metadata": {},
   "source": [
    "Let's compare this to the CV on the model with the original continuous columns"
   ]
  },
  {
   "cell_type": "code",
   "execution_count": null,
   "metadata": {},
   "outputs": [],
   "source": [
    "original_cols = list(set(helpers.get_calcofi_original_cols()) & set(x_train.columns.to_list()))\n",
    "\n",
    "cv_validation(model, x_train[original_cols], y_train)"
   ]
  },
  {
   "cell_type": "markdown",
   "metadata": {},
   "source": [
    "We see that feature engineering slightly improved the scores. But, maybe, we are overfitting on the columns with a lot of missing values (originally). Let's try to remove them and see what happens. Perhaps, new categorical columns will help instead."
   ]
  },
  {
   "cell_type": "code",
   "execution_count": null,
   "metadata": {},
   "outputs": [],
   "source": [
    "without_nan_cols = helpers.get_without_nan_cols(x_train.columns.to_list())\n",
    "\n",
    "cv_validation(model, x_train[without_nan_cols], y_train)"
   ]
  },
  {
   "cell_type": "markdown",
   "metadata": {},
   "source": [
    "The effect is the same as with nan-columns.\n",
    "\n",
    "Finally, let's see what happens if we take the bare minimum of columns: only original ones without columns with a lot of missing values."
   ]
  },
  {
   "cell_type": "code",
   "execution_count": null,
   "metadata": {},
   "outputs": [],
   "source": [
    "originals_without_nan_cols = helpers.get_originals_without_nan_cols()\n",
    "print(originals_without_nan_cols)\n",
    "\n",
    "cv_validation(model, x_train[originals_without_nan_cols], y_train)"
   ]
  },
  {
   "cell_type": "markdown",
   "metadata": {},
   "source": [
    "All in all, we can conclude that the simplest OLS performs well on this dataset even with the minimum pre-processing. But still, the feature engineering has actually improved result.\n",
    "\n",
    "For the final model let's choose the model with columns without a lot of NaN-values (the third one)."
   ]
  },
  {
   "cell_type": "markdown",
   "metadata": {},
   "source": [
    "### Training the model\n",
    "\n",
    "Train the model and save it for later."
   ]
  },
  {
   "cell_type": "code",
   "execution_count": null,
   "metadata": {},
   "outputs": [],
   "source": [
    "ols_fit = model.fit(x_train[without_nan_cols].values, y_train.values)\n",
    "\n",
    "with open('../models/ols.pkl', 'wb') as f:\n",
    "    pickle.dump(ols_fit, f)"
   ]
  },
  {
   "cell_type": "markdown",
   "metadata": {},
   "source": [
    "### Check the prediction"
   ]
  },
  {
   "cell_type": "code",
   "execution_count": null,
   "metadata": {},
   "outputs": [],
   "source": [
    "y_predict = ols_fit.predict(x_test[without_nan_cols].values)"
   ]
  },
  {
   "cell_type": "code",
   "execution_count": null,
   "metadata": {},
   "outputs": [],
   "source": [
    "print(mean_squared_error(y_test, y_predict)**0.5, r2_score(y_test, y_predict))"
   ]
  }
 ],
 "metadata": {
  "kernelspec": {
   "display_name": "project_venv",
   "language": "python",
   "name": "python3"
  },
  "language_info": {
   "codemirror_mode": {
    "name": "ipython",
    "version": 3
   },
   "file_extension": ".py",
   "mimetype": "text/x-python",
   "name": "python",
   "nbconvert_exporter": "python",
   "pygments_lexer": "ipython3",
   "version": "3.12.0"
  }
 },
 "nbformat": 4,
 "nbformat_minor": 2
}
