{
 "cells": [
  {
   "cell_type": "code",
   "execution_count": null,
   "metadata": {},
   "outputs": [],
   "source": [
    "import pandas as pd\n",
    "import numpy as np\n",
    "import matplotlib.pyplot as plt\n",
    "import seaborn as sns\n",
    "from sklearn import tree\n",
    "import pickle\n",
    "\n",
    "from sklearn.metrics import mean_squared_error, r2_score\n",
    "from sklearn.model_selection import GridSearchCV\n",
    "\n",
    "\n",
    "from helpers import target_feature, random_seed, get_originals_without_nan_cols\n",
    "\n",
    "np.random.seed(random_seed)"
   ]
  },
  {
   "cell_type": "markdown",
   "metadata": {},
   "source": [
    "## Regression Tree"
   ]
  },
  {
   "cell_type": "code",
   "execution_count": null,
   "metadata": {},
   "outputs": [],
   "source": [
    "train_df = pd.read_csv(f'../data/post_fs_train.csv', index_col=0)\n",
    "test_df = pd.read_csv(f'../data/post_fs_test.csv', index_col=0)\n",
    "\n",
    "prelim_x_train = train_df.drop(target_feature, axis=1)\n",
    "prelim_x_test = test_df.drop(target_feature, axis=1)"
   ]
  },
  {
   "cell_type": "markdown",
   "metadata": {},
   "source": [
    "## Decision tree regressor\n",
    "\n",
    "Here we will apply a regression tree. Unfortunately, according to https://scikit-learn.org/stable/modules/tree.html#tree, scikit-learn regression trees do not support categorical variables for now (what a pity), therefore we remove categorical features created earlier."
   ]
  },
  {
   "cell_type": "code",
   "execution_count": null,
   "metadata": {},
   "outputs": [],
   "source": [
    "continuous_cols = prelim_x_train.select_dtypes(np.float64).columns.to_list()\n",
    "\n",
    "x_train = prelim_x_train[continuous_cols]\n",
    "x_test = prelim_x_test[continuous_cols]\n",
    "\n",
    "y_train = train_df[target_feature]\n",
    "y_test = test_df[target_feature]"
   ]
  },
  {
   "cell_type": "markdown",
   "metadata": {},
   "source": [
    "#### Cross-validation"
   ]
  },
  {
   "cell_type": "code",
   "execution_count": null,
   "metadata": {},
   "outputs": [],
   "source": [
    "compute_cv = False"
   ]
  },
  {
   "cell_type": "code",
   "execution_count": null,
   "metadata": {},
   "outputs": [],
   "source": [
    "params_grid = {\n",
    "    'max_depth': [2, 3, 5, 10],\n",
    "    'min_samples_split': [100, 1_000, 10_000, 100_000],\n",
    "    'max_features': [1, 2, 5, 10, len(continuous_cols)]\n",
    "}"
   ]
  },
  {
   "cell_type": "code",
   "execution_count": null,
   "metadata": {},
   "outputs": [],
   "source": [
    "if compute_cv:\n",
    "    regressor = tree.DecisionTreeRegressor()\n",
    "    grid_search_cv = GridSearchCV(regressor, params_grid, verbose=3)\n",
    "\n",
    "    cv_fit = grid_search_cv.fit(x_train.values, y_train)\n",
    "\n",
    "    with open('../models/reg_tree_CV.pkl', 'wb') as f:\n",
    "        pickle.dump(cv_fit, f)\n"
   ]
  },
  {
   "cell_type": "code",
   "execution_count": null,
   "metadata": {},
   "outputs": [],
   "source": [
    "with open('../models/reg_tree_CV.pkl', 'rb') as f:\n",
    "    cv = pickle.load(f)"
   ]
  },
  {
   "cell_type": "markdown",
   "metadata": {},
   "source": [
    "### Training the model\n",
    "\n",
    "Selection of the best parameters from cross-validation, train the tree and store it."
   ]
  },
  {
   "cell_type": "code",
   "execution_count": null,
   "metadata": {},
   "outputs": [],
   "source": [
    "cv.best_params_"
   ]
  },
  {
   "cell_type": "code",
   "execution_count": null,
   "metadata": {},
   "outputs": [],
   "source": [
    "tree_reg = tree.DecisionTreeRegressor(**cv.best_params_)\n",
    "tree_fit = tree_reg.fit(x_train.values, y_train)"
   ]
  },
  {
   "cell_type": "code",
   "execution_count": null,
   "metadata": {},
   "outputs": [],
   "source": [
    "with open('../models/reg_tree.pkl', 'wb') as f:\n",
    "    pickle.dump(tree_fit, f)"
   ]
  },
  {
   "cell_type": "markdown",
   "metadata": {},
   "source": [
    "### Check prediction"
   ]
  },
  {
   "cell_type": "code",
   "execution_count": null,
   "metadata": {},
   "outputs": [],
   "source": [
    "y_predict = tree_fit.predict(x_test.values)\n",
    "print(mean_squared_error(y_test, y_predict)**0.5, r2_score(y_test, y_predict))"
   ]
  },
  {
   "cell_type": "code",
   "execution_count": null,
   "metadata": {},
   "outputs": [],
   "source": []
  }
 ],
 "metadata": {
  "kernelspec": {
   "display_name": "calcofi",
   "language": "python",
   "name": "python3"
  },
  "language_info": {
   "codemirror_mode": {
    "name": "ipython",
    "version": 3
   },
   "file_extension": ".py",
   "mimetype": "text/x-python",
   "name": "python",
   "nbconvert_exporter": "python",
   "pygments_lexer": "ipython3",
   "version": "3.12.0"
  }
 },
 "nbformat": 4,
 "nbformat_minor": 2
}
