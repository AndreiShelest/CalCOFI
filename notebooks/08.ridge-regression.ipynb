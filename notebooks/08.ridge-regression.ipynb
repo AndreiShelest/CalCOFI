{
 "cells": [
  {
   "cell_type": "code",
   "execution_count": null,
   "metadata": {},
   "outputs": [],
   "source": [
    "import pandas as pd\n",
    "import numpy as np\n",
    "import pickle\n",
    "\n",
    "from sklearn.linear_model import RidgeCV\n",
    "from helpers import target_feature, random_seed\n",
    "\n",
    "\n",
    "np.random.seed(random_seed)"
   ]
  },
  {
   "cell_type": "code",
   "execution_count": null,
   "metadata": {},
   "outputs": [],
   "source": [
    "train = pd.read_csv('../data/post_fs_train.csv', index_col=0)\n",
    "test = pd.read_csv('../data/post_fs_test.csv', index_col=0)"
   ]
  },
  {
   "cell_type": "code",
   "execution_count": null,
   "metadata": {},
   "outputs": [],
   "source": [
    "y_train = train[target_feature]\n",
    "y_test = test[target_feature]\n",
    "\n",
    "x_train = train.drop(target_feature, axis=1)\n",
    "x_test = test.drop(target_feature, axis=1)"
   ]
  },
  {
   "cell_type": "code",
   "execution_count": null,
   "metadata": {},
   "outputs": [],
   "source": [
    "compute_cv = True"
   ]
  },
  {
   "cell_type": "code",
   "execution_count": null,
   "metadata": {},
   "outputs": [],
   "source": [
    "if compute_cv:\n",
    "    model = RidgeCV(cv=5, alphas=[i*0.025 for i in range(1, 51)]).fit(x_train.values, y_train)\n",
    "    score = model.score(x_train.values, y_train)\n",
    "    print(score, model.alpha_)\n",
    "\n",
    "    with open('../models/ridge.pkl', 'wb') as f:\n",
    "        pickle.dump(model, f) "
   ]
  },
  {
   "cell_type": "code",
   "execution_count": null,
   "metadata": {},
   "outputs": [],
   "source": [
    "with open('../models/ridge.pkl', 'rb') as f:\n",
    "    ridge = pickle.load(f)\n",
    "\n",
    "ridge.alpha_"
   ]
  }
 ],
 "metadata": {
  "kernelspec": {
   "display_name": "project_venv",
   "language": "python",
   "name": "python3"
  },
  "language_info": {
   "codemirror_mode": {
    "name": "ipython",
    "version": 3
   },
   "file_extension": ".py",
   "mimetype": "text/x-python",
   "name": "python",
   "nbconvert_exporter": "python",
   "pygments_lexer": "ipython3",
   "version": "3.12.0"
  }
 },
 "nbformat": 4,
 "nbformat_minor": 2
}
