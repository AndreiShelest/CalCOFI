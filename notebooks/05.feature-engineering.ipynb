{
 "cells": [
  {
   "cell_type": "code",
   "execution_count": null,
   "metadata": {},
   "outputs": [],
   "source": [
    "import pandas as pd\n",
    "import numpy as np\n",
    "import matplotlib.pyplot as plt\n",
    "import seaborn as sns\n",
    "import joblib\n",
    "from sklearn import tree\n",
    "\n",
    "\n",
    "random_seed = 2024\n",
    "np.random.seed(random_seed)"
   ]
  },
  {
   "cell_type": "code",
   "execution_count": null,
   "metadata": {},
   "outputs": [],
   "source": [
    "def hist_plot(dataset, f_size=(10, 5)):\n",
    "    plt.figure(figsize=f_size)\n",
    "    sns.histplot(data=dataset, kde=False, bins=50)\n",
    "    plt.plot()\n",
    "\n",
    "def scatter_plot(x, y):\n",
    "    plt.figure(figsize=(5, 3))\n",
    "    sns.scatterplot(x=x, y=y)\n",
    "    plt.plot()\n",
    "\n",
    "def hist_plot_compare(x1, x2, x1_title, x2_title):\n",
    "    fig, axes = plt.subplots(nrows=1, ncols=2, figsize=(25, 45), layout='constrained')\n",
    "\n",
    "    sns.histplot(x1, ax=axes[0], bins=50).set(title=x1_title, xlabel=\"\")\n",
    "    sns.histplot(x2, ax=axes[1], bins=50).set(title=x2_title, xlabel=\"\")\n",
    "\n",
    "    plt.show()"
   ]
  },
  {
   "cell_type": "code",
   "execution_count": null,
   "metadata": {},
   "outputs": [],
   "source": [
    "def get_splits(tree_clf):\n",
    "    splits = np.array(tree_clf.tree_.threshold)\n",
    "\n",
    "    splits = splits[splits != -2]\n",
    "    splits = splits.tolist()\n",
    "    splits.append(np.Inf)\n",
    "    splits.append(-np.inf)\n",
    "    splits.sort()\n",
    "\n",
    "    return splits\n",
    "\n",
    "def create_cut_and_dummies(dataset, col, splits):\n",
    "    col_cat = f'{col}_cat'\n",
    "\n",
    "    dataset[col_cat] = pd.cut(dataset[col], splits)\n",
    "    return pd.get_dummies(dataset, columns=[col_cat], prefix=[col_cat])\n"
   ]
  },
  {
   "cell_type": "code",
   "execution_count": null,
   "metadata": {},
   "outputs": [],
   "source": [
    "train_df = pd.read_csv(f'../data/post_impute_train.csv', index_col=0)\n",
    "test_df = pd.read_csv(f'../data/post_impute_test.csv', index_col=0)\n",
    "\n",
    "target_var = 'R_SALINITY'"
   ]
  },
  {
   "cell_type": "code",
   "execution_count": null,
   "metadata": {},
   "outputs": [],
   "source": [
    "train_df.info()"
   ]
  },
  {
   "cell_type": "markdown",
   "metadata": {},
   "source": [
    "#### Feature engineering\n",
    "\n",
    "Here I'll apply feature engineering techniques to the selected variables with skewed distributions. I'll keep variables with \"somewhat\" normal distributions intact for now."
   ]
  },
  {
   "cell_type": "markdown",
   "metadata": {},
   "source": [
    "#### R_Depth\n",
    "\n",
    "Let's try discretizing it by applying the decision tree regressor."
   ]
  },
  {
   "cell_type": "code",
   "execution_count": null,
   "metadata": {},
   "outputs": [],
   "source": [
    "scatter_plot(train_df['R_Depth'], train_df[target_var])"
   ]
  },
  {
   "cell_type": "code",
   "execution_count": null,
   "metadata": {},
   "outputs": [],
   "source": [
    "depth_clf = tree.DecisionTreeRegressor(max_depth=3)\n",
    "depth_clf = depth_clf.fit(np.array(train_df['R_Depth']).reshape(-1, 1), np.array(train_df[target_var]).reshape(-1, 1))\n",
    "\n",
    "plt.figure(figsize=(12, 12))\n",
    "tree.plot_tree(depth_clf, fontsize=8)\n",
    "plt.show()"
   ]
  },
  {
   "cell_type": "markdown",
   "metadata": {},
   "source": [
    "Here the decision regressor is able to separate surface water and also range depths by their \"shallowness\", based on target variable. Let's create corresponding features."
   ]
  },
  {
   "cell_type": "code",
   "execution_count": null,
   "metadata": {},
   "outputs": [],
   "source": [
    "splits = get_splits(depth_clf)\n",
    "splits[0] = 0\n",
    "splits"
   ]
  },
  {
   "cell_type": "code",
   "execution_count": null,
   "metadata": {},
   "outputs": [],
   "source": [
    "train_df = create_cut_and_dummies(train_df, 'R_Depth', splits)\n",
    "test_df = create_cut_and_dummies(test_df, 'R_Depth', splits)\n",
    "\n",
    "print(train_df.shape, test_df.shape)\n",
    "print(all(train_df.columns == test_df.columns))"
   ]
  },
  {
   "cell_type": "markdown",
   "metadata": {},
   "source": [
    "#### R_O2\n",
    "\n",
    "Let's take a square root."
   ]
  },
  {
   "cell_type": "code",
   "execution_count": null,
   "metadata": {},
   "outputs": [],
   "source": [
    "scatter_plot(train_df['R_O2'], train_df[target_var])"
   ]
  },
  {
   "cell_type": "code",
   "execution_count": null,
   "metadata": {},
   "outputs": [],
   "source": [
    "train_df['R_O2_sqrt'] = np.sqrt(train_df['R_O2'])\n",
    "test_df['R_O2_sqrt'] = np.sqrt(test_df['R_O2'])"
   ]
  },
  {
   "cell_type": "code",
   "execution_count": null,
   "metadata": {},
   "outputs": [],
   "source": [
    "scatter_plot(train_df['R_O2_sqrt'], train_df[target_var])"
   ]
  },
  {
   "cell_type": "markdown",
   "metadata": {},
   "source": [
    "The following features were missing quite a lot of values before imputation. Perhaps, it will be easier for models to have a categorical interpretation of these variables as well."
   ]
  },
  {
   "cell_type": "markdown",
   "metadata": {},
   "source": [
    "#### R_SIO3\n",
    "\n",
    "Let's categorize this feature. We can see the effects of imputation here."
   ]
  },
  {
   "cell_type": "code",
   "execution_count": null,
   "metadata": {},
   "outputs": [],
   "source": [
    "scatter_plot(train_df['R_SIO3'], train_df[target_var])"
   ]
  },
  {
   "cell_type": "code",
   "execution_count": null,
   "metadata": {},
   "outputs": [],
   "source": [
    "sio3_clf = tree.DecisionTreeRegressor(max_depth=2)\n",
    "sio3_clf = sio3_clf.fit(np.array(train_df['R_SIO3']).reshape(-1, 1), np.array(train_df[target_var]).reshape(-1, 1))\n",
    "\n",
    "plt.figure(figsize=(12, 12))\n",
    "tree.plot_tree(sio3_clf, fontsize=8)\n",
    "plt.show()"
   ]
  },
  {
   "cell_type": "code",
   "execution_count": null,
   "metadata": {},
   "outputs": [],
   "source": [
    "splits = get_splits(sio3_clf)\n",
    "splits[0] = 0\n",
    "splits"
   ]
  },
  {
   "cell_type": "code",
   "execution_count": null,
   "metadata": {},
   "outputs": [],
   "source": [
    "train_df = create_cut_and_dummies(train_df, 'R_SIO3', splits)\n",
    "test_df = create_cut_and_dummies(test_df, 'R_SIO3', splits)\n",
    "\n",
    "print(train_df.shape, test_df.shape)\n",
    "print(all(train_df.columns == test_df.columns))"
   ]
  },
  {
   "cell_type": "markdown",
   "metadata": {},
   "source": [
    "#### R_PO4\n",
    "\n",
    "Again, let's classify it."
   ]
  },
  {
   "cell_type": "code",
   "execution_count": null,
   "metadata": {},
   "outputs": [],
   "source": [
    "scatter_plot(train_df['R_PO4'], train_df[target_var])"
   ]
  },
  {
   "cell_type": "code",
   "execution_count": null,
   "metadata": {},
   "outputs": [],
   "source": [
    "po4_clf = tree.DecisionTreeRegressor(max_depth=2)\n",
    "po4_clf = sio3_clf.fit(np.array(train_df['R_PO4']).reshape(-1, 1), np.array(train_df[target_var]).reshape(-1, 1))\n",
    "\n",
    "plt.figure(figsize=(12, 12))\n",
    "tree.plot_tree(po4_clf, fontsize=8)\n",
    "plt.show()"
   ]
  },
  {
   "cell_type": "code",
   "execution_count": null,
   "metadata": {},
   "outputs": [],
   "source": [
    "splits = get_splits(po4_clf)\n",
    "splits[0] = 0\n",
    "splits"
   ]
  },
  {
   "cell_type": "code",
   "execution_count": null,
   "metadata": {},
   "outputs": [],
   "source": [
    "train_df = create_cut_and_dummies(train_df, 'R_PO4', splits)\n",
    "test_df = create_cut_and_dummies(test_df, 'R_PO4', splits)\n",
    "\n",
    "print(train_df.shape, test_df.shape)\n",
    "print(all(train_df.columns == test_df.columns))"
   ]
  },
  {
   "cell_type": "markdown",
   "metadata": {},
   "source": [
    "#### R_NO3\n",
    "\n",
    "Let's classify it with a tree."
   ]
  },
  {
   "cell_type": "code",
   "execution_count": null,
   "metadata": {},
   "outputs": [],
   "source": [
    "scatter_plot(train_df['R_NO3'], train_df[target_var])"
   ]
  },
  {
   "cell_type": "code",
   "execution_count": null,
   "metadata": {},
   "outputs": [],
   "source": [
    "no3_clf = tree.DecisionTreeRegressor(max_depth=2)\n",
    "no3_clf = sio3_clf.fit(np.array(train_df['R_NO3']).reshape(-1, 1), np.array(train_df[target_var]).reshape(-1, 1))\n",
    "\n",
    "plt.figure(figsize=(12, 12))\n",
    "tree.plot_tree(no3_clf, fontsize=8)\n",
    "plt.show()"
   ]
  },
  {
   "cell_type": "code",
   "execution_count": null,
   "metadata": {},
   "outputs": [],
   "source": [
    "splits = get_splits(no3_clf)\n",
    "splits[0] = 0\n",
    "splits"
   ]
  },
  {
   "cell_type": "code",
   "execution_count": null,
   "metadata": {},
   "outputs": [],
   "source": [
    "train_df = create_cut_and_dummies(train_df, 'R_NO3', splits)\n",
    "test_df = create_cut_and_dummies(test_df, 'R_NO3', splits)\n",
    "\n",
    "print(train_df.shape, test_df.shape)\n",
    "print(all(train_df.columns == test_df.columns))"
   ]
  },
  {
   "cell_type": "markdown",
   "metadata": {},
   "source": [
    "#### R_NO2\n",
    "\n",
    "Again, let's classify it with a tree."
   ]
  },
  {
   "cell_type": "code",
   "execution_count": null,
   "metadata": {},
   "outputs": [],
   "source": [
    "scatter_plot(train_df['R_NO2'], train_df[target_var])"
   ]
  },
  {
   "cell_type": "code",
   "execution_count": null,
   "metadata": {},
   "outputs": [],
   "source": [
    "no2_clf = tree.DecisionTreeRegressor(max_depth=2)\n",
    "no2_clf = sio3_clf.fit(np.array(train_df['R_NO2']).reshape(-1, 1), np.array(train_df[target_var]).reshape(-1, 1))\n",
    "\n",
    "plt.figure(figsize=(12, 12))\n",
    "tree.plot_tree(no2_clf, fontsize=8)\n",
    "plt.show()"
   ]
  },
  {
   "cell_type": "code",
   "execution_count": null,
   "metadata": {},
   "outputs": [],
   "source": [
    "splits = get_splits(no2_clf)\n",
    "splits[0] = 0\n",
    "splits"
   ]
  },
  {
   "cell_type": "code",
   "execution_count": null,
   "metadata": {},
   "outputs": [],
   "source": [
    "train_df = create_cut_and_dummies(train_df, 'R_NO2', splits)\n",
    "test_df = create_cut_and_dummies(test_df, 'R_NO2', splits)\n",
    "\n",
    "print(train_df.shape, test_df.shape)\n",
    "print(all(train_df.columns == test_df.columns))"
   ]
  },
  {
   "cell_type": "markdown",
   "metadata": {},
   "source": [
    "#### R_NH4\n",
    "\n",
    "Again, let's classify it with a tree."
   ]
  },
  {
   "cell_type": "code",
   "execution_count": null,
   "metadata": {},
   "outputs": [],
   "source": [
    "scatter_plot(train_df['R_NH4'], train_df[target_var])"
   ]
  },
  {
   "cell_type": "code",
   "execution_count": null,
   "metadata": {},
   "outputs": [],
   "source": [
    "nh4_clf = tree.DecisionTreeRegressor(max_depth=2)\n",
    "nh4_clf = sio3_clf.fit(np.array(train_df['R_NH4']).reshape(-1, 1), np.array(train_df[target_var]).reshape(-1, 1))\n",
    "\n",
    "plt.figure(figsize=(12, 12))\n",
    "tree.plot_tree(nh4_clf, fontsize=8)\n",
    "plt.show()"
   ]
  },
  {
   "cell_type": "code",
   "execution_count": null,
   "metadata": {},
   "outputs": [],
   "source": [
    "splits = get_splits(nh4_clf)\n",
    "splits[0] = 0\n",
    "splits"
   ]
  },
  {
   "cell_type": "code",
   "execution_count": null,
   "metadata": {},
   "outputs": [],
   "source": [
    "train_df = create_cut_and_dummies(train_df, 'R_NH4', splits)\n",
    "test_df = create_cut_and_dummies(test_df, 'R_NH4', splits)\n",
    "\n",
    "print(train_df.shape, test_df.shape)\n",
    "print(all(train_df.columns == test_df.columns))"
   ]
  },
  {
   "cell_type": "markdown",
   "metadata": {},
   "source": [
    "#### R_CHLA\n",
    "\n",
    "Again, let's classify it with a tree."
   ]
  },
  {
   "cell_type": "code",
   "execution_count": null,
   "metadata": {},
   "outputs": [],
   "source": [
    "scatter_plot(train_df['R_CHLA'], train_df[target_var])"
   ]
  },
  {
   "cell_type": "code",
   "execution_count": null,
   "metadata": {},
   "outputs": [],
   "source": [
    "chla_clf = tree.DecisionTreeRegressor(max_depth=2)\n",
    "chla_clf = sio3_clf.fit(np.array(train_df['R_CHLA']).reshape(-1, 1), np.array(train_df[target_var]).reshape(-1, 1))\n",
    "\n",
    "plt.figure(figsize=(12, 12))\n",
    "tree.plot_tree(chla_clf, fontsize=8)\n",
    "plt.show()"
   ]
  },
  {
   "cell_type": "code",
   "execution_count": null,
   "metadata": {},
   "outputs": [],
   "source": [
    "splits = get_splits(chla_clf)\n",
    "splits[0] = 0\n",
    "splits"
   ]
  },
  {
   "cell_type": "code",
   "execution_count": null,
   "metadata": {},
   "outputs": [],
   "source": [
    "train_df = create_cut_and_dummies(train_df, 'R_CHLA', splits)\n",
    "test_df = create_cut_and_dummies(test_df, 'R_CHLA', splits)\n",
    "\n",
    "print(train_df.shape, test_df.shape)\n",
    "print(all(train_df.columns == test_df.columns))"
   ]
  },
  {
   "cell_type": "markdown",
   "metadata": {},
   "source": [
    "#### R_PHAEO\n",
    "\n",
    "Again, let's classify it with a tree."
   ]
  },
  {
   "cell_type": "code",
   "execution_count": null,
   "metadata": {},
   "outputs": [],
   "source": [
    "scatter_plot(train_df['R_PHAEO'], train_df[target_var])"
   ]
  },
  {
   "cell_type": "code",
   "execution_count": null,
   "metadata": {},
   "outputs": [],
   "source": [
    "phaeo_clf = tree.DecisionTreeRegressor(max_depth=2)\n",
    "phaeo_clf = sio3_clf.fit(np.array(train_df['R_PHAEO']).reshape(-1, 1), np.array(train_df[target_var]).reshape(-1, 1))\n",
    "\n",
    "plt.figure(figsize=(12, 12))\n",
    "tree.plot_tree(phaeo_clf, fontsize=8)\n",
    "plt.show()"
   ]
  },
  {
   "cell_type": "code",
   "execution_count": null,
   "metadata": {},
   "outputs": [],
   "source": [
    "splits = get_splits(phaeo_clf)\n",
    "splits[0] = 0\n",
    "splits"
   ]
  },
  {
   "cell_type": "code",
   "execution_count": null,
   "metadata": {},
   "outputs": [],
   "source": [
    "train_df = create_cut_and_dummies(train_df, 'R_PHAEO', splits)\n",
    "test_df = create_cut_and_dummies(test_df, 'R_PHAEO', splits)\n",
    "\n",
    "print(train_df.shape, test_df.shape)\n",
    "print(all(train_df.columns == test_df.columns))"
   ]
  },
  {
   "cell_type": "markdown",
   "metadata": {},
   "source": [
    "#### R_PRES\n",
    "\n",
    "Again, let's classify it with a tree."
   ]
  },
  {
   "cell_type": "code",
   "execution_count": null,
   "metadata": {},
   "outputs": [],
   "source": [
    "scatter_plot(train_df['R_PRES'], train_df[target_var])"
   ]
  },
  {
   "cell_type": "code",
   "execution_count": null,
   "metadata": {},
   "outputs": [],
   "source": [
    "pres_clf = tree.DecisionTreeRegressor(max_depth=2)\n",
    "pres_clf = sio3_clf.fit(np.array(train_df['R_PRES']).reshape(-1, 1), np.array(train_df[target_var]).reshape(-1, 1))\n",
    "\n",
    "plt.figure(figsize=(12, 12))\n",
    "tree.plot_tree(pres_clf, fontsize=8)\n",
    "plt.show()"
   ]
  },
  {
   "cell_type": "code",
   "execution_count": null,
   "metadata": {},
   "outputs": [],
   "source": [
    "splits = get_splits(pres_clf)\n",
    "splits[0] = 0\n",
    "splits"
   ]
  },
  {
   "cell_type": "code",
   "execution_count": null,
   "metadata": {},
   "outputs": [],
   "source": [
    "train_df = create_cut_and_dummies(train_df, 'R_PRES', splits)\n",
    "test_df = create_cut_and_dummies(test_df, 'R_PRES', splits)\n",
    "\n",
    "print(train_df.shape, test_df.shape)\n",
    "print(all(train_df.columns == test_df.columns))"
   ]
  },
  {
   "cell_type": "markdown",
   "metadata": {},
   "source": [
    "#### Lat_Dec, Lon_Dec\n",
    "\n",
    "Let's transform them into the polar system and add two new features."
   ]
  },
  {
   "cell_type": "code",
   "execution_count": null,
   "metadata": {},
   "outputs": [],
   "source": [
    "def cartesian_to_polar(x, y):\n",
    "    rho = np.sqrt(x*x + y*y)\n",
    "    phi = np.arctan2(y, x)\n",
    "\n",
    "    return (rho, phi)\n",
    "\n",
    "v_cartesian_to_polar = np.vectorize(cartesian_to_polar)"
   ]
  },
  {
   "cell_type": "code",
   "execution_count": null,
   "metadata": {},
   "outputs": [],
   "source": [
    "fig, axes = plt.subplots(nrows=1, ncols=2, figsize=(20, 5), layout='constrained')\n",
    "sns.scatterplot(x=train_df['Lon_Dec'], y=train_df[target_var], ax=axes[0])\n",
    "sns.scatterplot(x=train_df['Lat_Dec'], y=train_df[target_var], ax=axes[1])\n",
    "\n",
    "plt.show()"
   ]
  },
  {
   "cell_type": "code",
   "execution_count": null,
   "metadata": {},
   "outputs": [],
   "source": [
    "train_df['Rho'], train_df['Phi'] = v_cartesian_to_polar(train_df['Lon_Dec'], train_df['Lat_Dec'])\n",
    "test_df['Rho'], test_df['Phi'] = v_cartesian_to_polar(test_df['Lon_Dec'], test_df['Lat_Dec'])"
   ]
  },
  {
   "cell_type": "code",
   "execution_count": null,
   "metadata": {},
   "outputs": [],
   "source": [
    "fig, axes = plt.subplots(nrows=1, ncols=2, figsize=(20, 5), layout='constrained')\n",
    "sns.scatterplot(x=train_df['Rho'], y=train_df[target_var], ax=axes[0])\n",
    "sns.scatterplot(x=train_df['Phi'], y=train_df[target_var], ax=axes[1])\n",
    "\n",
    "plt.show()"
   ]
  },
  {
   "cell_type": "code",
   "execution_count": null,
   "metadata": {},
   "outputs": [],
   "source": [
    "print(train_df.shape, test_df.shape)\n",
    "print(all(train_df.columns == test_df.columns))"
   ]
  },
  {
   "cell_type": "markdown",
   "metadata": {},
   "source": [
    "## Save the data"
   ]
  },
  {
   "cell_type": "code",
   "execution_count": null,
   "metadata": {},
   "outputs": [],
   "source": [
    "train_df.to_csv(f'../data/post_fe_train.csv')\n",
    "test_df.to_csv(f'../data/post_fe_test.csv')"
   ]
  }
 ],
 "metadata": {
  "kernelspec": {
   "display_name": "calcofi",
   "language": "python",
   "name": "python3"
  },
  "language_info": {
   "codemirror_mode": {
    "name": "ipython",
    "version": 3
   },
   "file_extension": ".py",
   "mimetype": "text/x-python",
   "name": "python",
   "nbconvert_exporter": "python",
   "pygments_lexer": "ipython3",
   "version": "3.12.0"
  }
 },
 "nbformat": 4,
 "nbformat_minor": 2
}
