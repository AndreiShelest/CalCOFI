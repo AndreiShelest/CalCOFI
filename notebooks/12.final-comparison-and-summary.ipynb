{
 "cells": [
  {
   "cell_type": "markdown",
   "metadata": {},
   "source": [
    "# Final model comparison and summary"
   ]
  },
  {
   "cell_type": "code",
   "execution_count": null,
   "metadata": {},
   "outputs": [],
   "source": [
    "import pandas as pd\n",
    "import numpy as np\n",
    "import matplotlib.pyplot as plt\n",
    "import seaborn as sns\n",
    "\n",
    "from sklearn.metrics import mean_squared_error, r2_score\n",
    "import pickle\n",
    "import helpers\n",
    "\n",
    "random_seed = 2024\n",
    "np.random.seed(random_seed)"
   ]
  },
  {
   "cell_type": "code",
   "execution_count": null,
   "metadata": {},
   "outputs": [],
   "source": [
    "def plot_jointplot(y_true, y_predict):\n",
    "    jointplot = pd.DataFrame({\n",
    "        'y_true': y_true,\n",
    "        'y_predict': y_predict\n",
    "    })\n",
    "\n",
    "    plt.figure(figsize=(10, 5))\n",
    "    sns.jointplot(jointplot, x='y_true', y='y_predict', kind='reg', truncate=False)"
   ]
  },
  {
   "cell_type": "code",
   "execution_count": null,
   "metadata": {},
   "outputs": [],
   "source": [
    "def plot_score_comparison(scores, score_name):\n",
    "    plt.style.use('ggplot')\n",
    "    ax = scores.plot(kind='bar', figsize=(10, 5), title=f\"{score_name} comparison on test set\", width=0.2)\n",
    "\n",
    "    plt.tick_params(\n",
    "        axis='x',\n",
    "        which='both',\n",
    "        bottom=True,\n",
    "        top=False,\n",
    "        labelbottom=True) \n",
    "    ax.set_xticklabels(scores.index, rotation=0, fontsize=12)\n",
    "    ax.set_xlabel(\"Models\", fontsize=13)\n",
    "    ax.plot()"
   ]
  },
  {
   "cell_type": "code",
   "execution_count": null,
   "metadata": {},
   "outputs": [],
   "source": [
    "plot_jointplots = False"
   ]
  },
  {
   "cell_type": "code",
   "execution_count": null,
   "metadata": {},
   "outputs": [],
   "source": [
    "train = pd.read_csv('../data/post_fs_train.csv', index_col=0)\n",
    "test = pd.read_csv('../data/post_fs_test.csv', index_col=0)"
   ]
  },
  {
   "cell_type": "code",
   "execution_count": null,
   "metadata": {},
   "outputs": [],
   "source": [
    "target_var = 'R_SALINITY'\n",
    "\n",
    "y_train = train[target_var].values\n",
    "x_train = train.drop(target_var, axis=1)\n",
    "\n",
    "y_test = test[target_var].values\n",
    "x_test = test.drop(target_var, axis=1)"
   ]
  },
  {
   "cell_type": "code",
   "execution_count": null,
   "metadata": {},
   "outputs": [],
   "source": [
    "without_nan_cols = helpers.get_without_nan_cols(x_train.columns.to_list())"
   ]
  },
  {
   "cell_type": "code",
   "execution_count": null,
   "metadata": {},
   "outputs": [],
   "source": [
    "final_scores = pd.DataFrame(columns=['MSE', 'R2'])"
   ]
  },
  {
   "cell_type": "markdown",
   "metadata": {},
   "source": [
    "### OLS"
   ]
  },
  {
   "cell_type": "code",
   "execution_count": null,
   "metadata": {},
   "outputs": [],
   "source": [
    "with open('../models/ols.pkl', 'rb') as f:\n",
    "    ols_model = pickle.load(f)\n",
    "\n",
    "y_predict = ols_model.predict(x_test[without_nan_cols].values)\n",
    "\n",
    "final_scores.loc['OLS'] = (mean_squared_error(y_test, y_predict), r2_score(y_test, y_predict))\n",
    "final_scores"
   ]
  },
  {
   "cell_type": "code",
   "execution_count": null,
   "metadata": {},
   "outputs": [],
   "source": [
    "if plot_jointplots:\n",
    "    plot_jointplot(y_test, y_predict)"
   ]
  },
  {
   "cell_type": "markdown",
   "metadata": {},
   "source": [
    "## Final comparison"
   ]
  },
  {
   "cell_type": "code",
   "execution_count": null,
   "metadata": {},
   "outputs": [],
   "source": [
    "plot_score_comparison(final_scores['MSE'], 'MSE')"
   ]
  },
  {
   "cell_type": "code",
   "execution_count": null,
   "metadata": {},
   "outputs": [],
   "source": [
    "plot_score_comparison(final_scores['R2'], 'R2')"
   ]
  },
  {
   "cell_type": "code",
   "execution_count": null,
   "metadata": {},
   "outputs": [],
   "source": []
  }
 ],
 "metadata": {
  "kernelspec": {
   "display_name": "calcofi",
   "language": "python",
   "name": "python3"
  },
  "language_info": {
   "codemirror_mode": {
    "name": "ipython",
    "version": 3
   },
   "file_extension": ".py",
   "mimetype": "text/x-python",
   "name": "python",
   "nbconvert_exporter": "python",
   "pygments_lexer": "ipython3",
   "version": "3.12.0"
  }
 },
 "nbformat": 4,
 "nbformat_minor": 2
}
