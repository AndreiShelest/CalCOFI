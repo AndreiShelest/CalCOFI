{
 "cells": [
  {
   "cell_type": "code",
   "execution_count": null,
   "metadata": {},
   "outputs": [],
   "source": [
    "import pandas as pd\n",
    "import numpy as np\n",
    "import matplotlib.pyplot as plt\n",
    "import seaborn as sns\n",
    "from sklearn import tree\n",
    "from helpers import create_cut_and_dummies, get_splits, scatter_plot, random_seed, target_feature\n",
    "\n",
    "\n",
    "np.random.seed(random_seed)"
   ]
  },
  {
   "cell_type": "markdown",
   "metadata": {},
   "source": [
    "## 4. Categorization"
   ]
  },
  {
   "cell_type": "code",
   "execution_count": null,
   "metadata": {},
   "outputs": [],
   "source": [
    "def check_correctness(train, test, col_name):\n",
    "    print(train.shape, test.shape)\n",
    "    print('train and test cols:', all(train.columns == test.columns))\n",
    "    print(f'{col_name}_missing correctness (train): ', train.shape[0] - train[f'{col_name}_missing'].sum() == train[col_name].notnull().sum())\n",
    "    print(f'{col_name}_missing correctness (test): ', test.shape[0] - test[f'{col_name}_missing'].sum() == test[col_name].notnull().sum())\n",
    "\n",
    "def update_datasets_with_categories(train, test, col_name, splits):\n",
    "    train = create_cut_and_dummies(train, col_name, splits)\n",
    "    test = create_cut_and_dummies(test, col_name, splits)\n",
    "\n",
    "    train[f'{col_name}_missing'] = train[col_name].isnull()\n",
    "    test[f'{col_name}_missing'] = test[col_name].isnull()\n",
    "\n",
    "    check_correctness(train, test, col_name)\n",
    "\n",
    "    return (train, test)\n",
    "\n",
    "def train_tree_and_plot(train, col_name, target_var, max_depth):\n",
    "    filled_df = train.loc[train[col_name].notnull()]\n",
    "    print(f'{col_name} filled: {filled_df.shape}')\n",
    "\n",
    "    clf = tree.DecisionTreeRegressor(max_depth=max_depth)\n",
    "    clf = clf.fit(np.array(filled_df[col_name]).reshape(-1, 1), np.array(filled_df[target_var]).reshape(-1, 1))\n",
    "\n",
    "    plt.figure(figsize=(12, 12))\n",
    "    tree.plot_tree(clf, fontsize=8)\n",
    "    plt.show()\n",
    "\n",
    "    return clf"
   ]
  },
  {
   "cell_type": "code",
   "execution_count": null,
   "metadata": {},
   "outputs": [],
   "source": [
    "train_df = pd.read_csv(f'../data/barely_processed_train.csv', index_col=0)\n",
    "test_df = pd.read_csv(f'../data/barely_processed_test.csv', index_col=0)"
   ]
  },
  {
   "cell_type": "code",
   "execution_count": null,
   "metadata": {},
   "outputs": [],
   "source": [
    "train_df.info()"
   ]
  },
  {
   "cell_type": "markdown",
   "metadata": {},
   "source": [
    "## Categorization before imputation\n",
    "\n",
    "Some of the features are missing a lot of values. Also, some features have sort of bimodal distribution and tradintional imputation techniques can not simulate the distribution. We think that in order to preserve the structure of the original data in at least some form, it would be nice to categorize these features, and after that perform imputation. For the missing values a separate \"missing\" class will be created in each case."
   ]
  },
  {
   "cell_type": "markdown",
   "metadata": {},
   "source": [
    "#### R_Depth\n",
    "\n",
    "Let's categorize this feature."
   ]
  },
  {
   "cell_type": "code",
   "execution_count": null,
   "metadata": {},
   "outputs": [],
   "source": [
    "scatter_plot(train_df['R_Depth'], train_df[target_feature])"
   ]
  },
  {
   "cell_type": "code",
   "execution_count": null,
   "metadata": {},
   "outputs": [],
   "source": [
    "depth_clf = train_tree_and_plot(train_df, 'R_Depth', target_feature, 3)"
   ]
  },
  {
   "cell_type": "code",
   "execution_count": null,
   "metadata": {},
   "outputs": [],
   "source": [
    "splits = get_splits(depth_clf)\n",
    "splits[0] = 0\n",
    "splits"
   ]
  },
  {
   "cell_type": "code",
   "execution_count": null,
   "metadata": {},
   "outputs": [],
   "source": [
    "train_df, test_df = update_datasets_with_categories(train_df, test_df, 'R_Depth', splits)"
   ]
  },
  {
   "cell_type": "markdown",
   "metadata": {},
   "source": [
    "#### R_SIO3\n",
    "\n",
    "Let's categorize this feature."
   ]
  },
  {
   "cell_type": "code",
   "execution_count": null,
   "metadata": {},
   "outputs": [],
   "source": [
    "scatter_plot(train_df['R_SIO3'], train_df[target_feature])"
   ]
  },
  {
   "cell_type": "code",
   "execution_count": null,
   "metadata": {},
   "outputs": [],
   "source": [
    "sio3_clf = train_tree_and_plot(train_df, 'R_SIO3', target_feature, 2)"
   ]
  },
  {
   "cell_type": "code",
   "execution_count": null,
   "metadata": {},
   "outputs": [],
   "source": [
    "splits = get_splits(sio3_clf)\n",
    "splits[0] = 0\n",
    "splits"
   ]
  },
  {
   "cell_type": "code",
   "execution_count": null,
   "metadata": {},
   "outputs": [],
   "source": [
    "train_df, test_df = update_datasets_with_categories(train_df, test_df, 'R_SIO3', splits)"
   ]
  },
  {
   "cell_type": "markdown",
   "metadata": {},
   "source": [
    "#### R_PO4\n",
    "\n",
    "Again, let's classify it."
   ]
  },
  {
   "cell_type": "code",
   "execution_count": null,
   "metadata": {},
   "outputs": [],
   "source": [
    "scatter_plot(train_df['R_PO4'], train_df[target_feature])"
   ]
  },
  {
   "cell_type": "code",
   "execution_count": null,
   "metadata": {},
   "outputs": [],
   "source": [
    "po4_clf = train_tree_and_plot(train_df, 'R_PO4', target_feature, 2)"
   ]
  },
  {
   "cell_type": "code",
   "execution_count": null,
   "metadata": {},
   "outputs": [],
   "source": [
    "splits = get_splits(po4_clf)\n",
    "splits[0] = 0\n",
    "splits"
   ]
  },
  {
   "cell_type": "code",
   "execution_count": null,
   "metadata": {},
   "outputs": [],
   "source": [
    "train_df, test_df = update_datasets_with_categories(train_df, test_df, 'R_PO4', splits)"
   ]
  },
  {
   "cell_type": "markdown",
   "metadata": {},
   "source": [
    "#### R_NO2\n",
    "\n",
    "Again, let's classify it with a tree."
   ]
  },
  {
   "cell_type": "code",
   "execution_count": null,
   "metadata": {},
   "outputs": [],
   "source": [
    "scatter_plot(train_df['R_NO2'], train_df[target_feature])"
   ]
  },
  {
   "cell_type": "code",
   "execution_count": null,
   "metadata": {},
   "outputs": [],
   "source": [
    "no2_clf = train_tree_and_plot(train_df, 'R_NO2', target_feature, 2)"
   ]
  },
  {
   "cell_type": "code",
   "execution_count": null,
   "metadata": {},
   "outputs": [],
   "source": [
    "splits = get_splits(no2_clf)\n",
    "splits[0] = 0\n",
    "splits"
   ]
  },
  {
   "cell_type": "code",
   "execution_count": null,
   "metadata": {},
   "outputs": [],
   "source": [
    "train_df, test_df = update_datasets_with_categories(train_df, test_df, 'R_NO2', splits)"
   ]
  },
  {
   "cell_type": "markdown",
   "metadata": {},
   "source": [
    "#### R_NO3\n",
    "\n",
    "Again, let's classify it with a tree."
   ]
  },
  {
   "cell_type": "code",
   "execution_count": null,
   "metadata": {},
   "outputs": [],
   "source": [
    "scatter_plot(train_df['R_NO3'], train_df[target_feature])"
   ]
  },
  {
   "cell_type": "code",
   "execution_count": null,
   "metadata": {},
   "outputs": [],
   "source": [
    "no3_clf = train_tree_and_plot(train_df, 'R_NO3', target_feature, 2)"
   ]
  },
  {
   "cell_type": "code",
   "execution_count": null,
   "metadata": {},
   "outputs": [],
   "source": [
    "splits = get_splits(no3_clf)\n",
    "splits[0] = 0\n",
    "splits"
   ]
  },
  {
   "cell_type": "code",
   "execution_count": null,
   "metadata": {},
   "outputs": [],
   "source": [
    "train_df, test_df = update_datasets_with_categories(train_df, test_df, 'R_NO3', splits)"
   ]
  },
  {
   "cell_type": "markdown",
   "metadata": {},
   "source": [
    "#### R_NH4\n",
    "\n",
    "Again, let's classify it with a tree."
   ]
  },
  {
   "cell_type": "code",
   "execution_count": null,
   "metadata": {},
   "outputs": [],
   "source": [
    "scatter_plot(train_df['R_NH4'], train_df[target_feature])"
   ]
  },
  {
   "cell_type": "code",
   "execution_count": null,
   "metadata": {},
   "outputs": [],
   "source": [
    "nh4_clf = train_tree_and_plot(train_df, 'R_NH4', target_feature, 2)"
   ]
  },
  {
   "cell_type": "code",
   "execution_count": null,
   "metadata": {},
   "outputs": [],
   "source": [
    "splits = get_splits(nh4_clf)\n",
    "splits[0] = 0\n",
    "splits"
   ]
  },
  {
   "cell_type": "code",
   "execution_count": null,
   "metadata": {},
   "outputs": [],
   "source": [
    "train_df, test_df = update_datasets_with_categories(train_df, test_df, 'R_NH4', splits)"
   ]
  },
  {
   "cell_type": "markdown",
   "metadata": {},
   "source": [
    "#### R_CHLA\n",
    "\n",
    "Again, let's classify it with a tree."
   ]
  },
  {
   "cell_type": "code",
   "execution_count": null,
   "metadata": {},
   "outputs": [],
   "source": [
    "scatter_plot(train_df['R_CHLA'], train_df[target_feature])"
   ]
  },
  {
   "cell_type": "code",
   "execution_count": null,
   "metadata": {},
   "outputs": [],
   "source": [
    "chla_clf = train_tree_and_plot(train_df, 'R_CHLA', target_feature, 2)"
   ]
  },
  {
   "cell_type": "code",
   "execution_count": null,
   "metadata": {},
   "outputs": [],
   "source": [
    "splits = get_splits(chla_clf)\n",
    "splits[0] = 0\n",
    "splits"
   ]
  },
  {
   "cell_type": "code",
   "execution_count": null,
   "metadata": {},
   "outputs": [],
   "source": [
    "train_df, test_df = update_datasets_with_categories(train_df, test_df, 'R_CHLA', splits)"
   ]
  },
  {
   "cell_type": "markdown",
   "metadata": {},
   "source": [
    "#### R_PHAEO\n",
    "\n",
    "Again, let's classify it with a tree."
   ]
  },
  {
   "cell_type": "code",
   "execution_count": null,
   "metadata": {},
   "outputs": [],
   "source": [
    "scatter_plot(train_df['R_PHAEO'], train_df[target_feature])"
   ]
  },
  {
   "cell_type": "code",
   "execution_count": null,
   "metadata": {},
   "outputs": [],
   "source": [
    "phaeo_clf = train_tree_and_plot(train_df, 'R_PHAEO', target_feature, 2)"
   ]
  },
  {
   "cell_type": "code",
   "execution_count": null,
   "metadata": {},
   "outputs": [],
   "source": [
    "splits = get_splits(phaeo_clf)\n",
    "splits[0] = 0\n",
    "splits"
   ]
  },
  {
   "cell_type": "code",
   "execution_count": null,
   "metadata": {},
   "outputs": [],
   "source": [
    "train_df, test_df = update_datasets_with_categories(train_df, test_df, 'R_PHAEO', splits)"
   ]
  },
  {
   "cell_type": "markdown",
   "metadata": {},
   "source": [
    "#### R_PRES\n",
    "\n",
    "Again, let's classify it with a tree."
   ]
  },
  {
   "cell_type": "code",
   "execution_count": null,
   "metadata": {},
   "outputs": [],
   "source": [
    "scatter_plot(train_df['R_PRES'], train_df[target_feature])"
   ]
  },
  {
   "cell_type": "code",
   "execution_count": null,
   "metadata": {},
   "outputs": [],
   "source": [
    "pres_clf = train_tree_and_plot(train_df, 'R_PRES', target_feature, 2)"
   ]
  },
  {
   "cell_type": "code",
   "execution_count": null,
   "metadata": {},
   "outputs": [],
   "source": [
    "splits = get_splits(pres_clf)\n",
    "splits[0] = 0\n",
    "splits"
   ]
  },
  {
   "cell_type": "code",
   "execution_count": null,
   "metadata": {},
   "outputs": [],
   "source": [
    "train_df, test_df = update_datasets_with_categories(train_df, test_df, 'R_PRES', splits)"
   ]
  },
  {
   "cell_type": "markdown",
   "metadata": {},
   "source": [
    "## Save the data\n",
    "\n",
    "Also convert all boolean variables to int."
   ]
  },
  {
   "cell_type": "code",
   "execution_count": null,
   "metadata": {},
   "outputs": [],
   "source": [
    "train_df.replace({False: 0, True: 1}, inplace=True)\n",
    "test_df.replace({False: 0, True: 1}, inplace=True)"
   ]
  },
  {
   "cell_type": "code",
   "execution_count": null,
   "metadata": {},
   "outputs": [],
   "source": [
    "train_df.info()"
   ]
  },
  {
   "cell_type": "code",
   "execution_count": null,
   "metadata": {},
   "outputs": [],
   "source": [
    "test_df.info()"
   ]
  },
  {
   "cell_type": "code",
   "execution_count": null,
   "metadata": {},
   "outputs": [],
   "source": [
    "train_df.to_csv(f'../data/categorized_train.csv')\n",
    "test_df.to_csv(f'../data/categorized_test.csv')"
   ]
  }
 ],
 "metadata": {
  "kernelspec": {
   "display_name": "calcofi",
   "language": "python",
   "name": "python3"
  },
  "language_info": {
   "codemirror_mode": {
    "name": "ipython",
    "version": 3
   },
   "file_extension": ".py",
   "mimetype": "text/x-python",
   "name": "python",
   "nbconvert_exporter": "python",
   "pygments_lexer": "ipython3",
   "version": "3.11.6"
  }
 },
 "nbformat": 4,
 "nbformat_minor": 2
}
