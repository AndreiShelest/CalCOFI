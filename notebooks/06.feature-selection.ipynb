{
 "cells": [
  {
   "cell_type": "code",
   "execution_count": null,
   "metadata": {},
   "outputs": [],
   "source": [
    "import pandas as pd\n",
    "import numpy as np\n",
    "import matplotlib.pyplot as plt\n",
    "import seaborn as sns\n",
    "\n",
    "from sklearn.feature_selection import VarianceThreshold\n",
    "from sklearn.feature_selection import mutual_info_regression\n",
    "from sklearn.feature_selection import f_regression\n",
    "\n",
    "random_seed = 2024\n",
    "np.random.seed(random_seed)"
   ]
  },
  {
   "cell_type": "code",
   "execution_count": null,
   "metadata": {},
   "outputs": [],
   "source": [
    "compute_mutual_info = False"
   ]
  },
  {
   "cell_type": "code",
   "execution_count": null,
   "metadata": {},
   "outputs": [],
   "source": [
    "train_df = pd.read_csv(f'../data/post_fe_train.csv', index_col=0)\n",
    "test_df = pd.read_csv(f'../data/post_fe_test.csv', index_col=0)\n",
    "\n",
    "y_col = 'R_SALINITY'\n",
    "x_cols = train_df.drop(y_col, axis=1).columns"
   ]
  },
  {
   "cell_type": "code",
   "execution_count": null,
   "metadata": {},
   "outputs": [],
   "source": [
    "train_df.info()"
   ]
  },
  {
   "cell_type": "code",
   "execution_count": null,
   "metadata": {},
   "outputs": [],
   "source": [
    "categorical_cols = train_df.select_dtypes(np.int64).columns\n",
    "categorical_cols"
   ]
  },
  {
   "cell_type": "markdown",
   "metadata": {},
   "source": [
    "## Feature selection\n",
    "\n",
    "Here I'll calculate some statistics for the dataset to see the relevance for features. Based on this information, more of feature selection may be conducted later while constructing specific models."
   ]
  },
  {
   "cell_type": "code",
   "execution_count": null,
   "metadata": {},
   "outputs": [],
   "source": [
    "general_ranking = pd.DataFrame(index=x_cols)"
   ]
  },
  {
   "cell_type": "markdown",
   "metadata": {},
   "source": [
    "### Variance\n",
    "\n",
    "Get low-variance features."
   ]
  },
  {
   "cell_type": "code",
   "execution_count": null,
   "metadata": {},
   "outputs": [],
   "source": [
    "var_threshold = VarianceThreshold(0.01)\n",
    "\n",
    "var_selector = var_threshold.fit_transform(train_df[x_cols])\n",
    "\n",
    "variable_cols = train_df[train_df[x_cols].columns[var_threshold.get_support(indices=True)]].columns\n",
    "redundant_cols = set(train_df[x_cols].columns.tolist()) - set(variable_cols)\n",
    "\n",
    "redundant_cols"
   ]
  },
  {
   "cell_type": "markdown",
   "metadata": {},
   "source": [
    "### Mutual info"
   ]
  },
  {
   "cell_type": "code",
   "execution_count": null,
   "metadata": {},
   "outputs": [],
   "source": [
    "mutual_info_df = {}\n",
    "\n",
    "# Warning: a long computation\n",
    "if compute_mutual_info:\n",
    "    mutual_info = mutual_info_regression(train_df[x_cols], train_df[y_col], discrete_features=train_df[x_cols].columns.get_indexer(categorical_cols), random_state=random_seed)\n",
    "\n",
    "    mutual_info_df = pd.DataFrame({\n",
    "        'mutual_info_score': mutual_info\n",
    "    }, index=x_cols).sort_values('mutual_info_score', ascending=False)\n",
    "    mutual_info_df.to_excel('../scores/mutual_info_score.xlsx')\n",
    "else:\n",
    "    mutual_info_df = pd.read_excel('../scores/mutual_info_score.xlsx', index_col=0)"
   ]
  },
  {
   "cell_type": "code",
   "execution_count": null,
   "metadata": {},
   "outputs": [],
   "source": [
    "mutual_info_df.head(10)"
   ]
  },
  {
   "cell_type": "code",
   "execution_count": null,
   "metadata": {},
   "outputs": [],
   "source": [
    "mutual_info_df.loc[categorical_cols].sort_values(by='mutual_info_score', ascending=False)"
   ]
  },
  {
   "cell_type": "markdown",
   "metadata": {},
   "source": [
    "We see that at least some of new categorical features have non-negligible mutual info with a target variable."
   ]
  },
  {
   "cell_type": "markdown",
   "metadata": {},
   "source": [
    "### F-score"
   ]
  },
  {
   "cell_type": "code",
   "execution_count": null,
   "metadata": {},
   "outputs": [],
   "source": [
    "(f_stats, f_pvalues) = f_regression(train_df[x_cols], train_df[y_col])\n",
    "\n",
    "f_stats_df = pd.DataFrame({\n",
    "    'f_score': f_stats,\n",
    "    'f_pvalues': f_pvalues\n",
    "}, index=x_cols).sort_values('f_score', ascending=False)\n",
    "\n",
    "f_stats_df.to_excel('../scores/f_stats_score.xlsx')"
   ]
  },
  {
   "cell_type": "code",
   "execution_count": null,
   "metadata": {},
   "outputs": [],
   "source": [
    "f_stats_df.loc[f_stats_df['f_pvalues'] > 0.05]"
   ]
  },
  {
   "cell_type": "markdown",
   "metadata": {},
   "source": [
    "Here we see that the $H_0$ is failed to be rejected only for several features, which are already eliminated by variance threshold."
   ]
  },
  {
   "cell_type": "markdown",
   "metadata": {},
   "source": [
    "## Conclusion of feature selection\n",
    "\n",
    "I hereby decide to remove features rejected by variance threshold elimination and features with mutual information less than $0.1$."
   ]
  },
  {
   "cell_type": "code",
   "execution_count": null,
   "metadata": {},
   "outputs": [],
   "source": [
    "redundant_mutual_cols = mutual_info_df.loc[mutual_info_df['mutual_info_score'] < 0.1].index.values\n",
    "\n",
    "redundant_cols = list(set(redundant_cols) | set(redundant_mutual_cols))\n",
    "redundant_cols"
   ]
  },
  {
   "cell_type": "code",
   "execution_count": null,
   "metadata": {},
   "outputs": [],
   "source": [
    "train_df = train_df.drop(redundant_cols, axis=1)\n",
    "test_df = test_df.drop(redundant_cols, axis=1)\n",
    "\n",
    "print(train_df.shape, test_df.shape)\n",
    "print(all(train_df.columns == test_df.columns))"
   ]
  },
  {
   "cell_type": "code",
   "execution_count": null,
   "metadata": {},
   "outputs": [],
   "source": [
    "train_df.to_csv('../data/post_fs_train.csv')\n",
    "test_df.to_csv('../data/post_fs_test.csv')"
   ]
  }
 ],
 "metadata": {
  "kernelspec": {
   "display_name": "calcofi",
   "language": "python",
   "name": "python3"
  },
  "language_info": {
   "codemirror_mode": {
    "name": "ipython",
    "version": 3
   },
   "file_extension": ".py",
   "mimetype": "text/x-python",
   "name": "python",
   "nbconvert_exporter": "python",
   "pygments_lexer": "ipython3",
   "version": "3.12.0"
  }
 },
 "nbformat": 4,
 "nbformat_minor": 2
}
