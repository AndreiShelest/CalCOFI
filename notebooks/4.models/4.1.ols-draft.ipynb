{
 "cells": [
  {
   "cell_type": "code",
   "execution_count": null,
   "metadata": {},
   "outputs": [],
   "source": [
    "import pandas as pd\n",
    "import numpy as np\n",
    "import matplotlib.pyplot as plt\n",
    "import seaborn as sns\n",
    "import statsmodels.api as sm\n",
    "from statsmodels.formula.api import ols\n",
    "from sklearn.feature_selection import RFECV\n",
    "from sklearn.linear_model import LinearRegression\n",
    "import scipy.stats as stats\n",
    "from sklearn.model_selection import train_test_split\n",
    "from sklearn.model_selection import KFold\n",
    "from sklearn.metrics import mean_squared_error\n",
    "from mlxtend.feature_selection import SequentialFeatureSelector as SFS\n",
    "import pickle\n",
    "\n",
    "pd.set_option(\"display.max_columns\", 500)\n",
    "\n",
    "random_seed = 2024\n",
    "np.random.seed(random_seed)"
   ]
  },
  {
   "cell_type": "markdown",
   "metadata": {},
   "source": [
    "## Ordinary Least Square Regression\n",
    "\n",
    "Let's start with building first simple model"
   ]
  },
  {
   "cell_type": "code",
   "execution_count": null,
   "metadata": {},
   "outputs": [],
   "source": [
    "#to be updated\n",
    "path = '../data/'"
   ]
  },
  {
   "cell_type": "code",
   "execution_count": null,
   "metadata": {},
   "outputs": [],
   "source": [
    "# reading in data and dividing into x and y\n",
    "train, test = pd.read_csv(data)\n",
    "\n",
    "y_train = train['R_SALINITY']\n",
    "y_test = test['R_SALINITY']\n",
    "\n",
    "x_train = train.drop('R_SALINITY', axis=1)\n",
    "x_test = test.drop('R_SALINITY', axis=1)"
   ]
  },
  {
   "cell_type": "markdown",
   "metadata": {},
   "source": [
    "# Feature Selection\n",
    "\n",
    "tbd based on feature engineering"
   ]
  },
  {
   "cell_type": "code",
   "execution_count": null,
   "metadata": {},
   "outputs": [],
   "source": [
    "'''\n",
    "estimator = LinearRegression()\n",
    "selector = RFECV(estimator, step=1, cv=5, min_features_to_select=7)\n",
    "selector = selector.fit(\n",
    "    df.loc[:, rfe_candidates_without_disc].values, df.loc[:, \"etr\"].values.ravel()\n",
    ")\n",
    "df.loc[:, rfe_candidates_without_disc].iloc[:, selector.support_].columns.tolist()\n",
    "'''"
   ]
  },
  {
   "cell_type": "code",
   "execution_count": null,
   "metadata": {},
   "outputs": [],
   "source": [
    "def prediction(x_train, y_train, test):\n",
    "    # test can be validation\n",
    "    model= LinearRegression()\n",
    "    model.fit(x_train, y_train)\n",
    "    y_pred = model.predict(test)\n",
    "    return y_pred"
   ]
  },
  {
   "cell_type": "code",
   "execution_count": null,
   "metadata": {},
   "outputs": [],
   "source": [
    "def performacne_assesment(pred, test):\n",
    "    return mean_squared_error(pred, test)"
   ]
  }
 ],
 "metadata": {
  "language_info": {
   "name": "python"
  }
 },
 "nbformat": 4,
 "nbformat_minor": 2
}
