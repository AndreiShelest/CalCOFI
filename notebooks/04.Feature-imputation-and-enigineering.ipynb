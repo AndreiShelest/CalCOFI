{
 "cells": [
  {
   "cell_type": "code",
   "execution_count": null,
   "metadata": {},
   "outputs": [],
   "source": [
    "import pandas as pd\n",
    "import numpy as np\n",
    "import matplotlib.pyplot as plt\n",
    "import seaborn as sns\n",
    "import statsmodels.api as sm\n",
    "from statsmodels.formula.api import ols\n",
    "import scipy.stats as stats\n",
    "\n",
    "pd.set_option(\"display.max_columns\", 500)\n",
    "\n",
    "random_seed = 2024\n",
    "np.random.seed(random_seed)"
   ]
  },
  {
   "cell_type": "code",
   "execution_count": null,
   "metadata": {},
   "outputs": [],
   "source": [
    "def apply_z_score(col_name, z_score_col_name):\n",
    "    col_mean = bottle_df_train[col_name].mean()\n",
    "    col_std = bottle_df_train[col_name].std()\n",
    "\n",
    "    bottle_df_train[z_score_col_name] = (bottle_df_train[col_name] - col_mean) / col_std\n",
    "    bottle_df_test[z_score_col_name] = (bottle_df_test[col_name] - col_mean) / col_std"
   ]
  },
  {
   "cell_type": "code",
   "execution_count": null,
   "metadata": {},
   "outputs": [],
   "source": [
    "def impute_mean(col_name):\n",
    "    col_mean = bottle_df_train[col_name].mean()\n",
    "\n",
    "    train_null_count = bottle_df_train[col_name].isnull().sum()\n",
    "    test_null_count = bottle_df_test[col_name].isnull().sum()\n",
    "\n",
    "    bottle_df_train.loc[bottle_df_train[col_name].isnull(), col_name] = np.repeat(col_mean, train_null_count)\n",
    "    bottle_df_test.loc[bottle_df_test[col_name].isnull(), col_name] = np.repeat(col_mean, test_null_count)"
   ]
  },
  {
   "cell_type": "code",
   "execution_count": null,
   "metadata": {},
   "outputs": [],
   "source": [
    "def impute_uniform(col_name, quantile_from=0.25, quantile_to=0.75):\n",
    "    lower_quart = bottle_df_train[col_name].quantile(quantile_from)\n",
    "    upper_quart = bottle_df_train[col_name].quantile(quantile_to)\n",
    "\n",
    "    uniform_train = stats.uniform.rvs(loc=lower_quart, scale=upper_quart-lower_quart, size=bottle_df_train[col_name].isnull().sum())\n",
    "    uniform_test = stats.uniform.rvs(loc=lower_quart, scale=upper_quart-lower_quart, size=bottle_df_test[col_name].isnull().sum())\n",
    "\n",
    "    bottle_df_train.loc[bottle_df_train[col_name].isnull(), col_name] = uniform_train\n",
    "    bottle_df_test.loc[bottle_df_test[col_name].isnull(), col_name] = uniform_test"
   ]
  }
 ],
 "metadata": {
  "language_info": {
   "name": "python"
  }
 },
 "nbformat": 4,
 "nbformat_minor": 2
}
