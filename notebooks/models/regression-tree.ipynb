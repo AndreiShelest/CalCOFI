{
 "cells": [
  {
   "cell_type": "code",
   "execution_count": null,
   "metadata": {},
   "outputs": [],
   "source": [
    "import pandas as pd\n",
    "import numpy as np\n",
    "import matplotlib.pyplot as plt\n",
    "import seaborn as sns\n",
    "\n",
    "random_seed = 2024\n",
    "np.random.seed(random_seed)"
   ]
  },
  {
   "cell_type": "code",
   "execution_count": null,
   "metadata": {},
   "outputs": [],
   "source": [
    "train_df = pd.read_csv(f'../data/post_fs_train.csv', index_col=0)\n",
    "test_df = pd.read_csv(f'../data/post_fs_test.csv', index_col=0)\n",
    "\n",
    "y_col = 'R_SALINITY'\n",
    "x_cols = train_df.drop(y_col, axis=1).columns"
   ]
  },
  {
   "cell_type": "markdown",
   "metadata": {},
   "source": [
    "## Regression tree\n",
    "\n",
    "Here I will apply a regression tree. Unfortunately, according to https://scikit-learn.org/stable/modules/tree.html#tree, scikit-learn regression trees do not support categorical variables for now (what a pity), therefore I have to remove categorical features created earlier."
   ]
  },
  {
   "cell_type": "markdown",
   "metadata": {},
   "source": []
  }
 ],
 "metadata": {
  "language_info": {
   "name": "python"
  }
 },
 "nbformat": 4,
 "nbformat_minor": 2
}
